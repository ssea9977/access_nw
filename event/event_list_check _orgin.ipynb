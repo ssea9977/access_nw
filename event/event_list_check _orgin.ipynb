{
 "cells": [
  {
   "cell_type": "code",
   "execution_count": 53,
   "metadata": {},
   "outputs": [],
   "source": [
    "import pandas as pd \n",
    "from sqlalchemy import create_engine\n",
    "import xlwings as xw"
   ]
  },
  {
   "cell_type": "code",
   "execution_count": 54,
   "metadata": {},
   "outputs": [],
   "source": [
    "pd.set_option('display.max_columns',200)\n",
    "pd.set_option('display.max_rows',200)"
   ]
  },
  {
   "cell_type": "code",
   "execution_count": 55,
   "metadata": {},
   "outputs": [],
   "source": [
    "def load_file( path, sheet ) :\n",
    "    book = xw.Book( path )\n",
    "    df = book.sheets(sheet).used_range.options(pd.DataFrame).value\n",
    "    return df\n",
    "\n",
    "def sqlalchemy_connector( host, db, user, pw, sql ):\n",
    "    engine = create_engine( 'mysql+pymysql://' + user + ':' + pw + '@' + host + ':3306/' + db )\n",
    "    df = pd.read_sql_query( sql, engine )\n",
    "    return df"
   ]
  },
  {
   "cell_type": "code",
   "execution_count": 56,
   "metadata": {},
   "outputs": [],
   "source": [
    "event_df = load_file( 'C:/Users/10152638/Desktop/tmp/(221123) 강북_2022년_주요행사리스트 및 기지국리스트_11월4주~12월1주 행사리스트.xlsx', '상세리스트' )"
   ]
  },
  {
   "cell_type": "code",
   "execution_count": 57,
   "metadata": {},
   "outputs": [],
   "source": [
    "event_df = event_df.reset_index() "
   ]
  },
  {
   "cell_type": "code",
   "execution_count": 58,
   "metadata": {},
   "outputs": [],
   "source": [
    "lte_site_raw = load_file( 'C:/Users/10152638/Desktop/tmp/LTE_NEW_SITE_INFO_2022-11-23.xlsb', 'LTE_NEW_SITE_INFO_2022-11-23' )"
   ]
  },
  {
   "cell_type": "code",
   "execution_count": 59,
   "metadata": {},
   "outputs": [],
   "source": [
    "lte_site_raw = lte_site_raw.reset_index() "
   ]
  },
  {
   "cell_type": "code",
   "execution_count": 60,
   "metadata": {},
   "outputs": [],
   "source": [
    "num = range(0, 26)"
   ]
  },
  {
   "cell_type": "code",
   "execution_count": 61,
   "metadata": {},
   "outputs": [],
   "source": [
    "col_list = [ 0, 1, 3, 4, 11, 12, 18 ]"
   ]
  },
  {
   "cell_type": "code",
   "execution_count": 62,
   "metadata": {},
   "outputs": [],
   "source": [
    "col_list.append( 47 )"
   ]
  },
  {
   "cell_type": "code",
   "execution_count": 63,
   "metadata": {},
   "outputs": [],
   "source": [
    "lte_site = lte_site_raw.iloc[ :, col_list ]"
   ]
  },
  {
   "cell_type": "code",
   "execution_count": 64,
   "metadata": {},
   "outputs": [
    {
     "data": {
      "text/html": [
       "<div>\n",
       "<style scoped>\n",
       "    .dataframe tbody tr th:only-of-type {\n",
       "        vertical-align: middle;\n",
       "    }\n",
       "\n",
       "    .dataframe tbody tr th {\n",
       "        vertical-align: top;\n",
       "    }\n",
       "\n",
       "    .dataframe thead th {\n",
       "        text-align: right;\n",
       "    }\n",
       "</style>\n",
       "<table border=\"1\" class=\"dataframe\">\n",
       "  <thead>\n",
       "    <tr style=\"text-align: right;\">\n",
       "      <th></th>\n",
       "      <th>LSM</th>\n",
       "      <th>DU번호</th>\n",
       "      <th>RRH_ID</th>\n",
       "      <th>RRH_NAME</th>\n",
       "      <th>CELL</th>\n",
       "      <th>CELL2</th>\n",
       "      <th>BW</th>\n",
       "      <th>ADD3</th>\n",
       "    </tr>\n",
       "  </thead>\n",
       "  <tbody>\n",
       "    <tr>\n",
       "      <th>0</th>\n",
       "      <td>LSM1</td>\n",
       "      <td>SEC0006169</td>\n",
       "      <td>RNSL03820T</td>\n",
       "      <td>능동_광정빌딩_900M</td>\n",
       "      <td>0.0</td>\n",
       "      <td>-</td>\n",
       "      <td>900M</td>\n",
       "      <td>능동</td>\n",
       "    </tr>\n",
       "    <tr>\n",
       "      <th>1</th>\n",
       "      <td>LSM1</td>\n",
       "      <td>SEC0006169</td>\n",
       "      <td>RNSL03819T</td>\n",
       "      <td>군자동_비전빌딩_900M</td>\n",
       "      <td>0.0</td>\n",
       "      <td>-</td>\n",
       "      <td>900M</td>\n",
       "      <td>군자동</td>\n",
       "    </tr>\n",
       "    <tr>\n",
       "      <th>2</th>\n",
       "      <td>LSM1</td>\n",
       "      <td>SEC0006169</td>\n",
       "      <td>RNSL10439T</td>\n",
       "      <td>능동_길송빌딩_900M</td>\n",
       "      <td>11.0</td>\n",
       "      <td>-</td>\n",
       "      <td>900M</td>\n",
       "      <td>능동</td>\n",
       "    </tr>\n",
       "    <tr>\n",
       "      <th>3</th>\n",
       "      <td>LSM1</td>\n",
       "      <td>SEC0006169</td>\n",
       "      <td>RNSL03823T</td>\n",
       "      <td>중곡2_341-7번지_900M</td>\n",
       "      <td>11.0</td>\n",
       "      <td>-</td>\n",
       "      <td>900M</td>\n",
       "      <td>중곡동</td>\n",
       "    </tr>\n",
       "    <tr>\n",
       "      <th>4</th>\n",
       "      <td>LSM1</td>\n",
       "      <td>SEC0006169</td>\n",
       "      <td>RNSL03839T</td>\n",
       "      <td>중곡2_공영빌딩_900M</td>\n",
       "      <td>9.0</td>\n",
       "      <td>-</td>\n",
       "      <td>900M</td>\n",
       "      <td>중곡동</td>\n",
       "    </tr>\n",
       "  </tbody>\n",
       "</table>\n",
       "</div>"
      ],
      "text/plain": [
       "    LSM        DU번호      RRH_ID          RRH_NAME  CELL CELL2    BW ADD3\n",
       "0  LSM1  SEC0006169  RNSL03820T      능동_광정빌딩_900M   0.0     -  900M   능동\n",
       "1  LSM1  SEC0006169  RNSL03819T     군자동_비전빌딩_900M   0.0     -  900M  군자동\n",
       "2  LSM1  SEC0006169  RNSL10439T      능동_길송빌딩_900M  11.0     -  900M   능동\n",
       "3  LSM1  SEC0006169  RNSL03823T  중곡2_341-7번지_900M  11.0     -  900M  중곡동\n",
       "4  LSM1  SEC0006169  RNSL03839T     중곡2_공영빌딩_900M   9.0     -  900M  중곡동"
      ]
     },
     "execution_count": 64,
     "metadata": {},
     "output_type": "execute_result"
    }
   ],
   "source": [
    "lte_site.head()"
   ]
  },
  {
   "cell_type": "code",
   "execution_count": 65,
   "metadata": {},
   "outputs": [],
   "source": [
    "lte_site = lte_site.astype( str )"
   ]
  },
  {
   "cell_type": "code",
   "execution_count": 66,
   "metadata": {},
   "outputs": [
    {
     "name": "stderr",
     "output_type": "stream",
     "text": [
      "C:\\Users\\10152638\\AppData\\Local\\Programs\\Python\\Python39\\lib\\site-packages\\pandas\\core\\frame.py:3607: SettingWithCopyWarning: \n",
      "A value is trying to be set on a copy of a slice from a DataFrame.\n",
      "Try using .loc[row_indexer,col_indexer] = value instead\n",
      "\n",
      "See the caveats in the documentation: https://pandas.pydata.org/pandas-docs/stable/user_guide/indexing.html#returning-a-view-versus-a-copy\n",
      "  self._set_item(key, value)\n"
     ]
    }
   ],
   "source": [
    "lte_site[ 'CELL' ] = lte_site[ 'CELL' ].replace( r'.0$', '', regex = True )\n",
    "lte_site[ 'CELL2' ] = lte_site[ 'CELL2' ].replace( r'.0$', '', regex = True )\n",
    "lte_site_cell = lte_site[ ( lte_site[ 'CELL2' ] == '' ) | ( lte_site[ 'CELL2' ] == '-' )]\n",
    "lte_site_cell2 = lte_site[ ( lte_site[ 'CELL2' ] != '' ) & ( lte_site[ 'CELL2' ] != '-' ) ]\n",
    "lte_site_cell[ 'CELL_CELL' ] = lte_site[ 'CELL' ]\n",
    "lte_site_cell2[ 'CELL_CELL' ] = lte_site[ 'CELL' ] + '_' + lte_site[ 'CELL2' ]\n",
    "slte_site = pd.concat( [ lte_site_cell, lte_site_cell2 ] )\n",
    "lte_site[ 'CELL_CELL' ] = slte_site[ 'CELL_CELL' ]"
   ]
  },
  {
   "cell_type": "code",
   "execution_count": 67,
   "metadata": {},
   "outputs": [],
   "source": [
    "slte_list = event_df[ ( event_df[ '망' ] == 'LTE' ) & ( event_df[ '벤더' ] == 'SS'  ) ]\n",
    "slte_list = slte_list.reset_index( drop = True )"
   ]
  },
  {
   "cell_type": "code",
   "execution_count": 68,
   "metadata": {},
   "outputs": [],
   "source": [
    "slte_list[ 'SECTOR(CELL)' ] = slte_list[ 'SECTOR(CELL)' ].astype( str )"
   ]
  },
  {
   "cell_type": "code",
   "execution_count": 69,
   "metadata": {},
   "outputs": [],
   "source": [
    "prepro_cell = slte_list[ ~slte_list[ 'SECTOR(CELL)' ].str.contains( '_' ) ][ 'SECTOR(CELL)' ]\n",
    "prepro_cell = prepro_cell.str.replace( r'.0$', '', regex = True )\n",
    "prepro_cell2 = slte_list[ slte_list[ 'SECTOR(CELL)' ].str.contains( '_' ) ][ 'SECTOR(CELL)' ]"
   ]
  },
  {
   "cell_type": "code",
   "execution_count": 70,
   "metadata": {},
   "outputs": [],
   "source": [
    "cell_result = pd.concat( [ prepro_cell, prepro_cell2 ], sort=False).sort_index()\n",
    "slte_list[ 'SECTOR(CELL)' ] = cell_result"
   ]
  },
  {
   "cell_type": "code",
   "execution_count": 71,
   "metadata": {},
   "outputs": [],
   "source": [
    "slte_check = pd.merge( slte_list, slte_site, left_on = '기지국ID', right_on = 'RRH_ID', how = 'inner' )"
   ]
  },
  {
   "cell_type": "code",
   "execution_count": 72,
   "metadata": {},
   "outputs": [],
   "source": [
    "def slte_check_function( slte ) :\n",
    "    name_wrong = slte[ ( slte[ '기지국명' ] != slte[ 'RRH_NAME' ] ) ]\n",
    "    name_wrong[ '행사리스트' ] = name_wrong[ '기지국명' ]\n",
    "    name_wrong[ 'SITE_INFO' ] = name_wrong[ 'RRH_NAME' ]\n",
    "    name_wrong[ '오류발견' ] = '기지국명'\n",
    "    name_wrong_idx = list( name_wrong.index )\n",
    "    slte.loc[ name_wrong_idx, '기지국명' ] = slte.loc[ name_wrong_idx, 'RRH_NAME' ]\n",
    "    \n",
    "\n",
    "    lsm_wrong = slte[ ( slte[ '시스템 명' ] != slte[ 'LSM' ] ) ]\n",
    "    lsm_wrong[ '행사리스트' ] = lsm_wrong[ '시스템 명' ]\n",
    "    lsm_wrong[ 'SITE_INFO' ] = lsm_wrong[ 'LSM' ]\n",
    "    lsm_wrong[ '오류발견' ] = '시스템명'\n",
    "    lsm_wrong_idx = list( lsm_wrong.index )\n",
    "    slte.loc[ lsm_wrong_idx, '시스템 명' ] = slte.loc[ lsm_wrong_idx, 'LSM' ]\n",
    "\n",
    "    du_wrong = slte[ ( slte[ 'DU ID' ] != slte[ 'DU번호' ] ) ]\n",
    "    du_wrong[ '행사리스트' ] = du_wrong[ 'DU ID' ]\n",
    "    du_wrong[ 'SITE_INFO' ] = du_wrong[ 'DU번호' ]\n",
    "    du_wrong[ '오류발견' ] = 'DU ID'\n",
    "    du_wrong_idx = list( du_wrong.index )\n",
    "    slte.loc[ du_wrong_idx, 'DU ID' ] = slte.loc[ du_wrong_idx, 'DU번호' ]\n",
    "\n",
    "\n",
    "    bw_wrong = slte[ ( slte[ '5G/LTE 주파수' ] != slte[ 'BW' ] ) ]\n",
    "    bw_wrong[ '행사리스트' ] = bw_wrong[ '5G/LTE 주파수' ]\n",
    "    bw_wrong[ 'SITE_INFO' ] = bw_wrong[ 'BW' ]\n",
    "    bw_wrong[ '오류발견' ] = '주파수'\n",
    "    bw_wrong_idx = list( bw_wrong.index )\n",
    "    slte.loc[ bw_wrong_idx, '5G/LTE 주파수' ] = slte.loc[ bw_wrong_idx, 'BW' ]\n",
    "\n",
    "    cell_wrong = slte[ ( slte[ 'SECTOR(CELL)' ] != slte[ 'CELL_CELL' ] ) ]\n",
    "    cell_wrong[ '행사리스트' ] = cell_wrong[ 'SECTOR(CELL)' ]\n",
    "    cell_wrong[ 'SITE_INFO' ] = cell_wrong[ 'CELL_CELL' ]\n",
    "    cell_wrong[ '오류발견' ] = 'SECTOR(CELL)'\n",
    "    cell_wrong_idx = list( cell_wrong.index )\n",
    "    slte.loc[ cell_wrong_idx, 'SECTOR(CELL)' ] = slte.loc[ cell_wrong_idx, 'CELL_CELL' ]\n",
    "\n",
    "    result = pd.concat( [ name_wrong, lsm_wrong, du_wrong, bw_wrong, cell_wrong ] )\n",
    "\n",
    "    num = list( range( 0, 19 ) )\n",
    "    num.insert( 0, -3 )\n",
    "    num.insert( 0, -2 )\n",
    "    num.insert( 0, -1 )\n",
    "    col_list = list( num )\n",
    "    result = result.iloc[ :, col_list ] \n",
    "    slte = slte.iloc[ :, :19 ] \n",
    "\n",
    "    return result, slte"
   ]
  },
  {
   "cell_type": "code",
   "execution_count": 73,
   "metadata": {},
   "outputs": [],
   "source": [
    "slte_wrong, slte_result = slte_check_function( slte_check )"
   ]
  },
  {
   "cell_type": "markdown",
   "metadata": {},
   "source": [
    "#### 5G"
   ]
  },
  {
   "cell_type": "code",
   "execution_count": 74,
   "metadata": {},
   "outputs": [],
   "source": [
    "nr_site_raw = load_file( 'C:/Users/10152638/Desktop/tmp/5G_NEW_SITE_INFO_2022-11-23.xlsb', '5G_NEW_SITE_INFO_2022-11-23' )\n",
    "nr_site_raw = nr_site_raw.reset_index( drop = True )"
   ]
  },
  {
   "cell_type": "code",
   "execution_count": 75,
   "metadata": {},
   "outputs": [],
   "source": [
    "nr_list = event_df[ ( event_df[ '망' ] == '5G' ) & ( event_df[ '벤더' ] == 'SS'  ) ]\n",
    "nr_list = nr_list.reset_index( drop = True )"
   ]
  },
  {
   "cell_type": "code",
   "execution_count": 76,
   "metadata": {},
   "outputs": [
    {
     "data": {
      "text/html": [
       "<div>\n",
       "<style scoped>\n",
       "    .dataframe tbody tr th:only-of-type {\n",
       "        vertical-align: middle;\n",
       "    }\n",
       "\n",
       "    .dataframe tbody tr th {\n",
       "        vertical-align: top;\n",
       "    }\n",
       "\n",
       "    .dataframe thead th {\n",
       "        text-align: right;\n",
       "    }\n",
       "</style>\n",
       "<table border=\"1\" class=\"dataframe\">\n",
       "  <thead>\n",
       "    <tr style=\"text-align: right;\">\n",
       "      <th></th>\n",
       "      <th>팀</th>\n",
       "      <th>액세스망제어팀</th>\n",
       "      <th>행사명</th>\n",
       "      <th>기간</th>\n",
       "      <th>예상인원</th>\n",
       "      <th>망</th>\n",
       "      <th>벤더</th>\n",
       "      <th>시스템 명</th>\n",
       "      <th>ACPF NAME</th>\n",
       "      <th>RNC명\\n(RNC 번호 2자리 표시)</th>\n",
       "      <th>DU ID</th>\n",
       "      <th>SECTOR(CELL)</th>\n",
       "      <th>5G/LTE 주파수</th>\n",
       "      <th>기지국ID</th>\n",
       "      <th>기지국명</th>\n",
       "      <th>서비스지역</th>\n",
       "      <th>증설유무\\n(기존 OR 증설)</th>\n",
       "      <th>통합NMS 운용현황</th>\n",
       "      <th>비고</th>\n",
       "    </tr>\n",
       "  </thead>\n",
       "  <tbody>\n",
       "    <tr>\n",
       "      <th>0</th>\n",
       "      <td>청량엔지</td>\n",
       "      <td>강북</td>\n",
       "      <td>2022 남진 콘서트</td>\n",
       "      <td>2022-11-26 00:00:00</td>\n",
       "      <td>4000명</td>\n",
       "      <td>5G</td>\n",
       "      <td>SS</td>\n",
       "      <td>HH_CU04</td>\n",
       "      <td>NRSL64466S</td>\n",
       "      <td>ACPF_100004</td>\n",
       "      <td>None</td>\n",
       "      <td>NS00200176</td>\n",
       "      <td>18.0</td>\n",
       "      <td>3.5G</td>\n",
       "      <td>회기동_경희대경영대학관_32T_A</td>\n",
       "      <td>경희대학교 서울캠퍼스</td>\n",
       "      <td>기존</td>\n",
       "      <td>운용</td>\n",
       "      <td>None</td>\n",
       "    </tr>\n",
       "    <tr>\n",
       "      <th>1</th>\n",
       "      <td>청량엔지</td>\n",
       "      <td>강북</td>\n",
       "      <td>2022 남진 콘서트</td>\n",
       "      <td>2022-11-26 00:00:00</td>\n",
       "      <td>4000명</td>\n",
       "      <td>5G</td>\n",
       "      <td>SS</td>\n",
       "      <td>HH_CU04</td>\n",
       "      <td>NRSL65490S</td>\n",
       "      <td>ACPF_100004</td>\n",
       "      <td>None</td>\n",
       "      <td>NS00200178</td>\n",
       "      <td>5.0</td>\n",
       "      <td>3.5G</td>\n",
       "      <td>회기동_경희대경영대학관_32T_B</td>\n",
       "      <td>경희대학교 서울캠퍼스</td>\n",
       "      <td>기존</td>\n",
       "      <td>운용</td>\n",
       "      <td>None</td>\n",
       "    </tr>\n",
       "  </tbody>\n",
       "</table>\n",
       "</div>"
      ],
      "text/plain": [
       "      팀 액세스망제어팀          행사명                   기간   예상인원   망  벤더    시스템 명  \\\n",
       "0  청량엔지      강북  2022 남진 콘서트  2022-11-26 00:00:00  4000명  5G  SS  HH_CU04   \n",
       "1  청량엔지      강북  2022 남진 콘서트  2022-11-26 00:00:00  4000명  5G  SS  HH_CU04   \n",
       "\n",
       "    ACPF NAME RNC명\\n(RNC 번호 2자리 표시) DU ID SECTOR(CELL) 5G/LTE 주파수 기지국ID  \\\n",
       "0  NRSL64466S           ACPF_100004  None   NS00200176       18.0  3.5G   \n",
       "1  NRSL65490S           ACPF_100004  None   NS00200178        5.0  3.5G   \n",
       "\n",
       "                 기지국명        서비스지역 증설유무\\n(기존 OR 증설) 통합NMS 운용현황    비고  \n",
       "0  회기동_경희대경영대학관_32T_A  경희대학교 서울캠퍼스               기존         운용  None  \n",
       "1  회기동_경희대경영대학관_32T_B  경희대학교 서울캠퍼스               기존         운용  None  "
      ]
     },
     "execution_count": 76,
     "metadata": {},
     "output_type": "execute_result"
    }
   ],
   "source": [
    "nr_list.head(2)"
   ]
  },
  {
   "cell_type": "code",
   "execution_count": 77,
   "metadata": {},
   "outputs": [],
   "source": [
    "col_list = [ 1, 2, 5, 7, 8, 13 ]"
   ]
  },
  {
   "cell_type": "code",
   "execution_count": 78,
   "metadata": {},
   "outputs": [],
   "source": [
    "nr_site = nr_site_raw.iloc[ :, col_list ]"
   ]
  },
  {
   "cell_type": "code",
   "execution_count": 79,
   "metadata": {},
   "outputs": [],
   "source": [
    "# prepro_cell = slte_list[ ~slte_list[ 'SECTOR(CELL)' ].str.contains( '_' ) ][ 'SECTOR(CELL)' ]\n",
    "# prepro_cell = prepro_cell.str.replace( r'.0$', '', regex = True )\n",
    "# prepro_cell2 = slte_list[ slte_list[ 'SECTOR(CELL)' ].str.contains( '_' ) ][ 'SECTOR(CELL)' ]"
   ]
  },
  {
   "cell_type": "code",
   "execution_count": 80,
   "metadata": {},
   "outputs": [],
   "source": [
    "nr_site = nr_site.astype( str )\n",
    "nr_site[ 'CELL_ID' ] = nr_site[ 'CELL_ID' ].str.replace( r'.0$', '', regex = True )"
   ]
  },
  {
   "cell_type": "code",
   "execution_count": 81,
   "metadata": {},
   "outputs": [
    {
     "data": {
      "text/html": [
       "<div>\n",
       "<style scoped>\n",
       "    .dataframe tbody tr th:only-of-type {\n",
       "        vertical-align: middle;\n",
       "    }\n",
       "\n",
       "    .dataframe tbody tr th {\n",
       "        vertical-align: top;\n",
       "    }\n",
       "\n",
       "    .dataframe thead th {\n",
       "        text-align: right;\n",
       "    }\n",
       "</style>\n",
       "<table border=\"1\" class=\"dataframe\">\n",
       "  <thead>\n",
       "    <tr style=\"text-align: right;\">\n",
       "      <th></th>\n",
       "      <th>팀</th>\n",
       "      <th>액세스망제어팀</th>\n",
       "      <th>행사명</th>\n",
       "      <th>기간</th>\n",
       "      <th>예상인원</th>\n",
       "      <th>망</th>\n",
       "      <th>벤더</th>\n",
       "      <th>시스템 명</th>\n",
       "      <th>ACPF NAME</th>\n",
       "      <th>RNC명\\n(RNC 번호 2자리 표시)</th>\n",
       "      <th>DU ID</th>\n",
       "      <th>SECTOR(CELL)</th>\n",
       "      <th>5G/LTE 주파수</th>\n",
       "      <th>기지국ID</th>\n",
       "      <th>기지국명</th>\n",
       "      <th>서비스지역</th>\n",
       "      <th>증설유무\\n(기존 OR 증설)</th>\n",
       "      <th>통합NMS 운용현황</th>\n",
       "      <th>비고</th>\n",
       "    </tr>\n",
       "  </thead>\n",
       "  <tbody>\n",
       "  </tbody>\n",
       "</table>\n",
       "</div>"
      ],
      "text/plain": [
       "Empty DataFrame\n",
       "Columns: [팀, 액세스망제어팀, 행사명, 기간, 예상인원, 망, 벤더, 시스템 명, ACPF NAME, RNC명\n",
       "(RNC 번호 2자리 표시), DU ID, SECTOR(CELL), 5G/LTE 주파수, 기지국ID, 기지국명, 서비스지역, 증설유무\n",
       "(기존 OR 증설), 통합NMS 운용현황, 비고]\n",
       "Index: []"
      ]
     },
     "execution_count": 81,
     "metadata": {},
     "output_type": "execute_result"
    }
   ],
   "source": [
    "nr_list[ nr_list[ '기지국ID' ] == 'NS00200378' ]"
   ]
  },
  {
   "cell_type": "code",
   "execution_count": 82,
   "metadata": {},
   "outputs": [
    {
     "data": {
      "text/plain": [
       "array(['64', '66', '68', ..., '1749', '1751', '1989'], dtype=object)"
      ]
     },
     "execution_count": 82,
     "metadata": {},
     "output_type": "execute_result"
    }
   ],
   "source": [
    "nr_site[ 'CELL_ID' ].unique()"
   ]
  },
  {
   "cell_type": "code",
   "execution_count": 83,
   "metadata": {},
   "outputs": [],
   "source": [
    "nr_list = nr_list.astype( str )"
   ]
  },
  {
   "cell_type": "code",
   "execution_count": 84,
   "metadata": {},
   "outputs": [],
   "source": [
    "nr_list[ 'SECTOR(CELL)' ] = nr_list[ 'SECTOR(CELL)' ].str.replace( r'.0$', '', regex = True )"
   ]
  },
  {
   "cell_type": "code",
   "execution_count": 85,
   "metadata": {},
   "outputs": [],
   "source": [
    "nr_check = pd.merge( nr_list, nr_site, left_on = '기지국ID', right_on = 'RU_ID', how = 'inner' )"
   ]
  },
  {
   "cell_type": "code",
   "execution_count": 86,
   "metadata": {},
   "outputs": [],
   "source": [
    "def nr_check_function( nr ) :\n",
    "    name_wrong = nr[ ( nr[ '기지국명' ] != nr[ 'RU_NAME' ] ) ]\n",
    "    name_wrong[ '행사리스트' ] = name_wrong[ '기지국명' ]\n",
    "    name_wrong[ 'SITE_INFO' ] = name_wrong[ 'RU_NAME' ]\n",
    "    name_wrong[ '오류발견' ] = '기지국명'\n",
    "    name_wrong_idx = list( name_wrong.index )\n",
    "    nr.loc[ name_wrong_idx, '기지국명' ] = nr.loc[ name_wrong_idx, 'RU_NAME' ]\n",
    "    \n",
    "\n",
    "    lsm_wrong = nr[ ( nr[ '시스템 명' ] != 'HH_USM' ) ]\n",
    "    lsm_wrong[ '행사리스트' ] = lsm_wrong[ '시스템 명' ]\n",
    "    lsm_wrong[ 'SITE_INFO' ] = 'HH_USM'\n",
    "    lsm_wrong[ '오류발견' ] = '시스템명'\n",
    "    lsm_wrong_idx = list( lsm_wrong.index )\n",
    "    nr.loc[ lsm_wrong_idx, '시스템 명' ] = 'HH_USM'\n",
    "\n",
    "    du_wrong = nr[ ( nr[ 'DU ID' ] != nr[ 'DU_ID' ] ) ]\n",
    "    du_wrong[ '행사리스트' ] = du_wrong[ 'DU ID' ]\n",
    "    du_wrong[ 'SITE_INFO' ] = du_wrong[ 'DU_ID' ]\n",
    "    du_wrong[ '오류발견' ] = 'DU ID'\n",
    "    du_wrong_idx = list( du_wrong.index )\n",
    "    nr.loc[ du_wrong_idx, 'DU ID' ] = nr.loc[ du_wrong_idx, 'DU_ID' ]\n",
    "\n",
    "\n",
    "    bw_wrong = nr[ ( nr[ '5G/LTE 주파수' ] != '3.5G' ) ]\n",
    "    bw_wrong[ '행사리스트' ] = bw_wrong[ '5G/LTE 주파수' ]\n",
    "    bw_wrong[ 'SITE_INFO' ] = '3.5G'\n",
    "    bw_wrong[ '오류발견' ] = '주파수'\n",
    "    bw_wrong_idx = list( bw_wrong.index )\n",
    "    nr.loc[ bw_wrong_idx, '5G/LTE 주파수' ] = '3.5G'\n",
    "\n",
    "    cell_wrong = nr[ ( nr[ 'SECTOR(CELL)' ] != nr[ 'CELL_ID' ] ) ]\n",
    "    cell_wrong[ '행사리스트' ] = cell_wrong[ 'SECTOR(CELL)' ]\n",
    "    cell_wrong[ 'SITE_INFO' ] = cell_wrong[ 'CELL_ID' ]\n",
    "    cell_wrong[ '오류발견' ] = 'SECTOR(CELL)'\n",
    "    cell_wrong_idx = list( cell_wrong.index )\n",
    "    nr.loc[ cell_wrong_idx, 'SECTOR(CELL)' ] = nr.loc[ cell_wrong_idx, 'CELL_ID' ]\n",
    "\n",
    "    result = pd.concat( [ name_wrong, lsm_wrong, du_wrong, bw_wrong, cell_wrong ] )\n",
    "    num = list( range( 0, 19 ) )\n",
    "    num.insert( 0, -3 )\n",
    "    num.insert( 0, -2 )\n",
    "    num.insert( 0, -1 )\n",
    "    col_list = list( num )\n",
    "    result = result.iloc[ :, col_list ] \n",
    "    nr = nr.iloc[ :, :-6 ] \n",
    "\n",
    "    return result, nr"
   ]
  },
  {
   "cell_type": "code",
   "execution_count": 87,
   "metadata": {},
   "outputs": [],
   "source": [
    "nr_wrong, nr_result = nr_check_function( nr_check )"
   ]
  },
  {
   "cell_type": "markdown",
   "metadata": {},
   "source": [
    "#### ELG"
   ]
  },
  {
   "cell_type": "code",
   "execution_count": 88,
   "metadata": {},
   "outputs": [],
   "source": [
    "elte_site_raw = load_file( 'C:/Users/10152638/Desktop/tmp/ELG_LTE_SITE_INFO_20221123.xlsb', 'ELG_LTE_SITE_INFO_20221123' )\n",
    "elte_site_raw = elte_site_raw.reset_index( drop = True )"
   ]
  },
  {
   "cell_type": "code",
   "execution_count": 89,
   "metadata": {},
   "outputs": [],
   "source": [
    "elte_list = event_df[ ( event_df[ '망' ] == 'LTE' ) & ( event_df[ '벤더' ] == 'ELG'  ) ]\n",
    "elte_list = elte_list.reset_index( drop = True )"
   ]
  },
  {
   "cell_type": "code",
   "execution_count": 90,
   "metadata": {},
   "outputs": [],
   "source": [
    "col_list = list( [ 2, 3, 9, 10, 20 ] )\n",
    "elte_site = elte_site_raw.iloc[ :, col_list ]\n",
    "elte_site = elte_site.astype( str )\n",
    "elte_site[ 'Cell' ] = elte_site[ 'Cell' ].str.replace( r'.0$', '', regex = True )"
   ]
  },
  {
   "cell_type": "code",
   "execution_count": 91,
   "metadata": {},
   "outputs": [],
   "source": [
    "elte_site = elte_site.astype( str )"
   ]
  },
  {
   "cell_type": "code",
   "execution_count": 92,
   "metadata": {},
   "outputs": [],
   "source": [
    "elte_site[ 'ENB' ] = elte_site[ 'EUtranCellFDD' ].str.split( '_' ).str.get( 0 )"
   ]
  },
  {
   "cell_type": "code",
   "execution_count": 93,
   "metadata": {},
   "outputs": [],
   "source": [
    "elte_site = elte_site.groupby( [ 'ENB', 'nms장비ID', 'nms장비명' ] ).agg( { 'Cell' : '_'.join, 'DL주파수' : '_'.join } ).reset_index()"
   ]
  },
  {
   "cell_type": "code",
   "execution_count": 94,
   "metadata": {},
   "outputs": [
    {
     "data": {
      "text/html": [
       "<div>\n",
       "<style scoped>\n",
       "    .dataframe tbody tr th:only-of-type {\n",
       "        vertical-align: middle;\n",
       "    }\n",
       "\n",
       "    .dataframe tbody tr th {\n",
       "        vertical-align: top;\n",
       "    }\n",
       "\n",
       "    .dataframe thead th {\n",
       "        text-align: right;\n",
       "    }\n",
       "</style>\n",
       "<table border=\"1\" class=\"dataframe\">\n",
       "  <thead>\n",
       "    <tr style=\"text-align: right;\">\n",
       "      <th></th>\n",
       "      <th>ENB</th>\n",
       "      <th>nms장비ID</th>\n",
       "      <th>nms장비명</th>\n",
       "      <th>Cell</th>\n",
       "      <th>DL주파수</th>\n",
       "    </tr>\n",
       "  </thead>\n",
       "  <tbody>\n",
       "    <tr>\n",
       "      <th>0</th>\n",
       "      <td>LGE0000021</td>\n",
       "      <td>RNKW04245G</td>\n",
       "      <td>인제상남T1(900M)</td>\n",
       "      <td>89_89</td>\n",
       "      <td>900M_900M</td>\n",
       "    </tr>\n",
       "    <tr>\n",
       "      <th>1</th>\n",
       "      <td>LGE0000021</td>\n",
       "      <td>RQKW70133G</td>\n",
       "      <td>인제과학화훈련단_LRIU-T(30M)</td>\n",
       "      <td>21_61</td>\n",
       "      <td>1.8G_1.8H</td>\n",
       "    </tr>\n",
       "    <tr>\n",
       "      <th>2</th>\n",
       "      <td>LGE0000021</td>\n",
       "      <td>RQKW70181G</td>\n",
       "      <td>인제_곤충바이오센터T</td>\n",
       "      <td>25_65</td>\n",
       "      <td>1.8G_1.8H</td>\n",
       "    </tr>\n",
       "    <tr>\n",
       "      <th>3</th>\n",
       "      <td>LGE0000021</td>\n",
       "      <td>RQKW70195G</td>\n",
       "      <td>인제푸르미아파트103동옥상T</td>\n",
       "      <td>26_66</td>\n",
       "      <td>1.8G_1.8H</td>\n",
       "    </tr>\n",
       "    <tr>\n",
       "      <th>4</th>\n",
       "      <td>LGE0000021</td>\n",
       "      <td>RRKW02040G</td>\n",
       "      <td>인제마의태자캠핑장T</td>\n",
       "      <td>28</td>\n",
       "      <td>1.8G</td>\n",
       "    </tr>\n",
       "    <tr>\n",
       "      <th>...</th>\n",
       "      <td>...</td>\n",
       "      <td>...</td>\n",
       "      <td>...</td>\n",
       "      <td>...</td>\n",
       "      <td>...</td>\n",
       "    </tr>\n",
       "    <tr>\n",
       "      <th>7642</th>\n",
       "      <td>LGE1000060</td>\n",
       "      <td>RQKW49512G</td>\n",
       "      <td>홍천화상대리아홉사리로펜션단지T</td>\n",
       "      <td>21_61</td>\n",
       "      <td>1.8G_1.8H</td>\n",
       "    </tr>\n",
       "    <tr>\n",
       "      <th>7643</th>\n",
       "      <td>LGE1000062</td>\n",
       "      <td>-</td>\n",
       "      <td>-</td>\n",
       "      <td>51</td>\n",
       "      <td>900M</td>\n",
       "    </tr>\n",
       "    <tr>\n",
       "      <th>7644</th>\n",
       "      <td>LGE1000062</td>\n",
       "      <td>RQKW49572G</td>\n",
       "      <td>인제과학화훈련단본청인빌딩T</td>\n",
       "      <td>24_64</td>\n",
       "      <td>1.8G_1.8H</td>\n",
       "    </tr>\n",
       "    <tr>\n",
       "      <th>7645</th>\n",
       "      <td>LGE1000062</td>\n",
       "      <td>RQKW49588G</td>\n",
       "      <td>인제과학화대항군연대T</td>\n",
       "      <td>23_63</td>\n",
       "      <td>1.8G_1.8H</td>\n",
       "    </tr>\n",
       "    <tr>\n",
       "      <th>7646</th>\n",
       "      <td>LGE1000062</td>\n",
       "      <td>RRKW04312G</td>\n",
       "      <td>인제새다무리_RRHT</td>\n",
       "      <td>21</td>\n",
       "      <td>1.8G</td>\n",
       "    </tr>\n",
       "  </tbody>\n",
       "</table>\n",
       "<p>7647 rows × 5 columns</p>\n",
       "</div>"
      ],
      "text/plain": [
       "             ENB     nms장비ID                nms장비명   Cell      DL주파수\n",
       "0     LGE0000021  RNKW04245G          인제상남T1(900M)  89_89  900M_900M\n",
       "1     LGE0000021  RQKW70133G  인제과학화훈련단_LRIU-T(30M)  21_61  1.8G_1.8H\n",
       "2     LGE0000021  RQKW70181G           인제_곤충바이오센터T  25_65  1.8G_1.8H\n",
       "3     LGE0000021  RQKW70195G       인제푸르미아파트103동옥상T  26_66  1.8G_1.8H\n",
       "4     LGE0000021  RRKW02040G            인제마의태자캠핑장T     28       1.8G\n",
       "...          ...         ...                   ...    ...        ...\n",
       "7642  LGE1000060  RQKW49512G      홍천화상대리아홉사리로펜션단지T  21_61  1.8G_1.8H\n",
       "7643  LGE1000062           -                     -     51       900M\n",
       "7644  LGE1000062  RQKW49572G        인제과학화훈련단본청인빌딩T  24_64  1.8G_1.8H\n",
       "7645  LGE1000062  RQKW49588G           인제과학화대항군연대T  23_63  1.8G_1.8H\n",
       "7646  LGE1000062  RRKW04312G           인제새다무리_RRHT     21       1.8G\n",
       "\n",
       "[7647 rows x 5 columns]"
      ]
     },
     "execution_count": 94,
     "metadata": {},
     "output_type": "execute_result"
    }
   ],
   "source": [
    "elte_site.groupby( [ 'ENB', 'nms장비ID', 'nms장비명' ] ).agg( { 'Cell' : '_'.join, 'DL주파수' : '_'.join } ).reset_index()"
   ]
  },
  {
   "cell_type": "code",
   "execution_count": 95,
   "metadata": {},
   "outputs": [
    {
     "data": {
      "text/html": [
       "<div>\n",
       "<style scoped>\n",
       "    .dataframe tbody tr th:only-of-type {\n",
       "        vertical-align: middle;\n",
       "    }\n",
       "\n",
       "    .dataframe tbody tr th {\n",
       "        vertical-align: top;\n",
       "    }\n",
       "\n",
       "    .dataframe thead th {\n",
       "        text-align: right;\n",
       "    }\n",
       "</style>\n",
       "<table border=\"1\" class=\"dataframe\">\n",
       "  <thead>\n",
       "    <tr style=\"text-align: right;\">\n",
       "      <th></th>\n",
       "      <th>eNBID</th>\n",
       "      <th>DU</th>\n",
       "      <th>EUtranCellFDD</th>\n",
       "      <th>Cell</th>\n",
       "      <th>Rel_Cell</th>\n",
       "      <th>Sector</th>\n",
       "      <th>Sec_Port</th>\n",
       "      <th>DU_Port</th>\n",
       "      <th>DU_RRU</th>\n",
       "      <th>nms장비ID</th>\n",
       "      <th>nms장비명</th>\n",
       "      <th>nms장비상태</th>\n",
       "      <th>Cell_Admin</th>\n",
       "      <th>RRU_Admin</th>\n",
       "      <th>ECI</th>\n",
       "      <th>nmsCellID</th>\n",
       "      <th>PCI</th>\n",
       "      <th>nmsPCI</th>\n",
       "      <th>rachRootSequence</th>\n",
       "      <th>TAC</th>\n",
       "      <th>DL주파수</th>\n",
       "      <th>earfcndl</th>\n",
       "      <th>earfcnul</th>\n",
       "      <th>userLabel</th>\n",
       "      <th>MIMO여부</th>\n",
       "      <th>Combined여부</th>\n",
       "      <th>Termpoint</th>\n",
       "      <th>로밍_DU</th>\n",
       "      <th>로밍_Cell</th>\n",
       "      <th>upperLayerInd</th>\n",
       "      <th>중요국소</th>\n",
       "      <th>EndcAllowedPlmn</th>\n",
       "      <th>eMTC</th>\n",
       "      <th>nms위도</th>\n",
       "      <th>nms경도</th>\n",
       "      <th>latitude</th>\n",
       "      <th>longitude</th>\n",
       "      <th>Scheduling</th>\n",
       "      <th>pdcchPowerBoostMax</th>\n",
       "      <th>pdcchCfiMode</th>\n",
       "      <th>dlChannelBandwidth</th>\n",
       "      <th>ulChannelBandwidth</th>\n",
       "      <th>ulFrequencyAllocationProportion</th>\n",
       "      <th>ulConfigurableFrequencyStart</th>\n",
       "      <th>qRxLevMin</th>\n",
       "      <th>qHyst</th>\n",
       "      <th>cellRange</th>\n",
       "      <th>noOfPucchCqiUsers</th>\n",
       "      <th>noOfPucchSrUsers</th>\n",
       "      <th>primaryPlmnReserved</th>\n",
       "      <th>qQualMin</th>\n",
       "      <th>noOfRxAntennas</th>\n",
       "      <th>noOfTxAntennas</th>\n",
       "      <th>dlPowerRatio</th>\n",
       "      <th>maximumTransmissionPower</th>\n",
       "      <th>dlTrafficDelay</th>\n",
       "      <th>ulTrafficDelay</th>\n",
       "      <th>dlAttenuation</th>\n",
       "      <th>ulAttenuation</th>\n",
       "      <th>configuredMaxTxPower</th>\n",
       "      <th>b1Threshold</th>\n",
       "      <th>crsGain</th>\n",
       "      <th>RE_Boosting</th>\n",
       "      <th>productionDate</th>\n",
       "      <th>productName</th>\n",
       "      <th>productNumber</th>\n",
       "      <th>productRevision</th>\n",
       "      <th>serialNumber</th>\n",
       "      <th>nmsDU랙번호</th>\n",
       "      <th>nmsDU번호</th>\n",
       "      <th>nmsCH카드</th>\n",
       "      <th>nmsCH포트</th>\n",
       "      <th>nms집중국</th>\n",
       "      <th>nms도로명주소</th>\n",
       "      <th>nms시도</th>\n",
       "      <th>nms시군구</th>\n",
       "      <th>nms읍면동</th>\n",
       "      <th>nms번지</th>\n",
       "      <th>nms건물</th>\n",
       "      <th>nms세부주소</th>\n",
       "      <th>nmsRU서비스지역</th>\n",
       "      <th>nms운용팀</th>\n",
       "      <th>nms담당자</th>\n",
       "      <th>SW집중국</th>\n",
       "      <th>S1_ip</th>\n",
       "      <th>SW_NAME</th>\n",
       "      <th>SW_port</th>\n",
       "      <th>Primary_SW_IP</th>\n",
       "      <th>Secondary_SW_IP</th>\n",
       "      <th>Primary_회선번호</th>\n",
       "      <th>Secondary_회선번호</th>\n",
       "      <th>RPS</th>\n",
       "    </tr>\n",
       "  </thead>\n",
       "  <tbody>\n",
       "    <tr>\n",
       "      <th>0</th>\n",
       "      <td>35572.0</td>\n",
       "      <td>DU30</td>\n",
       "      <td>LGE0000021_1A</td>\n",
       "      <td>21.0</td>\n",
       "      <td>4508-35572-21</td>\n",
       "      <td>LGE0000021_S1A</td>\n",
       "      <td>LGE0000021_S1A_D_S1A_4_Direct</td>\n",
       "      <td>LGE0000021_D</td>\n",
       "      <td>LGE0000021_MRIR30-D-S1A</td>\n",
       "      <td>RQKW70133G</td>\n",
       "      <td>인제과학화훈련단_LRIU-T(30M)</td>\n",
       "      <td>운용</td>\n",
       "      <td>UNLOCKED</td>\n",
       "      <td>UNLOCKED</td>\n",
       "      <td>9106453.0</td>\n",
       "      <td>9106453_9106493_9106533</td>\n",
       "      <td>375.0</td>\n",
       "      <td>375_375_375</td>\n",
       "      <td>400.0</td>\n",
       "      <td>1574.0</td>\n",
       "      <td>1.8G</td>\n",
       "      <td>1550.0</td>\n",
       "      <td>19550.0</td>\n",
       "      <td>LGE0000021_1A_RQKW70133G</td>\n",
       "      <td>MIMO</td>\n",
       "      <td>Normal</td>\n",
       "      <td>-</td>\n",
       "      <td>OFF</td>\n",
       "      <td>OFF</td>\n",
       "      <td>ON</td>\n",
       "      <td>-</td>\n",
       "      <td>5G_ON</td>\n",
       "      <td>True</td>\n",
       "      <td>37-52-27.391</td>\n",
       "      <td>128-15-34.060</td>\n",
       "      <td>37874104.0</td>\n",
       "      <td>128259429.0</td>\n",
       "      <td>:RESOURCE_FAIR:DELAY_BASED:RESOURCE_FAIR:RESOU...</td>\n",
       "      <td>6.0</td>\n",
       "      <td>CFI_AUTO_MAXIMUM_3</td>\n",
       "      <td>20000.0</td>\n",
       "      <td>20000.0</td>\n",
       "      <td>72.0</td>\n",
       "      <td>51.0</td>\n",
       "      <td>-128.0</td>\n",
       "      <td>2.0</td>\n",
       "      <td>15.0</td>\n",
       "      <td>720.0</td>\n",
       "      <td>720.0</td>\n",
       "      <td>False</td>\n",
       "      <td>0.0</td>\n",
       "      <td>2.0</td>\n",
       "      <td>2.0</td>\n",
       "      <td>100.0</td>\n",
       "      <td>490.0</td>\n",
       "      <td>76000.0</td>\n",
       "      <td>76000.0</td>\n",
       "      <td>-160.0</td>\n",
       "      <td>0.0</td>\n",
       "      <td>2000.0</td>\n",
       "      <td>38.0</td>\n",
       "      <td>0.0</td>\n",
       "      <td>Pb_0(RE_Boost_ON)</td>\n",
       "      <td>20170804.0</td>\n",
       "      <td>Radio2203B3</td>\n",
       "      <td>KRC161488/1</td>\n",
       "      <td>R1E</td>\n",
       "      <td>D826163212</td>\n",
       "      <td>2.0</td>\n",
       "      <td>2.0</td>\n",
       "      <td>1.0</td>\n",
       "      <td>LGE0000021:상남R1(분기)-02-02</td>\n",
       "      <td>상남R1(분기)</td>\n",
       "      <td>강원도인제군-</td>\n",
       "      <td>강원도</td>\n",
       "      <td>인제군</td>\n",
       "      <td>상남면상남리</td>\n",
       "      <td>1308-0</td>\n",
       "      <td>과학화전투훈련단대항군연대연대동</td>\n",
       "      <td>상남기지국</td>\n",
       "      <td>인빌딩</td>\n",
       "      <td>영동엔지니어링팀</td>\n",
       "      <td>김용해</td>\n",
       "      <td>상남R1(분기)</td>\n",
       "      <td>10.74.82.98/29</td>\n",
       "      <td>Sangnam.R1-LAX001-2</td>\n",
       "      <td>13.0</td>\n",
       "      <td>10.74.81.1</td>\n",
       "      <td>10.74.81.2</td>\n",
       "      <td>12313012-1243</td>\n",
       "      <td>12313012-1244</td>\n",
       "      <td>OFF</td>\n",
       "    </tr>\n",
       "  </tbody>\n",
       "</table>\n",
       "</div>"
      ],
      "text/plain": [
       "     eNBID    DU  EUtranCellFDD  Cell       Rel_Cell          Sector  \\\n",
       "0  35572.0  DU30  LGE0000021_1A  21.0  4508-35572-21  LGE0000021_S1A   \n",
       "\n",
       "                        Sec_Port       DU_Port                   DU_RRU  \\\n",
       "0  LGE0000021_S1A_D_S1A_4_Direct  LGE0000021_D  LGE0000021_MRIR30-D-S1A   \n",
       "\n",
       "      nms장비ID                nms장비명 nms장비상태 Cell_Admin RRU_Admin        ECI  \\\n",
       "0  RQKW70133G  인제과학화훈련단_LRIU-T(30M)      운용   UNLOCKED  UNLOCKED  9106453.0   \n",
       "\n",
       "                 nmsCellID    PCI       nmsPCI  rachRootSequence     TAC  \\\n",
       "0  9106453_9106493_9106533  375.0  375_375_375             400.0  1574.0   \n",
       "\n",
       "  DL주파수  earfcndl  earfcnul                 userLabel MIMO여부 Combined여부  \\\n",
       "0  1.8G    1550.0   19550.0  LGE0000021_1A_RQKW70133G   MIMO     Normal   \n",
       "\n",
       "  Termpoint 로밍_DU 로밍_Cell upperLayerInd 중요국소 EndcAllowedPlmn  eMTC  \\\n",
       "0         -   OFF     OFF            ON    -           5G_ON  True   \n",
       "\n",
       "          nms위도          nms경도    latitude    longitude  \\\n",
       "0  37-52-27.391  128-15-34.060  37874104.0  128259429.0   \n",
       "\n",
       "                                          Scheduling  pdcchPowerBoostMax  \\\n",
       "0  :RESOURCE_FAIR:DELAY_BASED:RESOURCE_FAIR:RESOU...                 6.0   \n",
       "\n",
       "         pdcchCfiMode  dlChannelBandwidth  ulChannelBandwidth  \\\n",
       "0  CFI_AUTO_MAXIMUM_3             20000.0             20000.0   \n",
       "\n",
       "   ulFrequencyAllocationProportion  ulConfigurableFrequencyStart  qRxLevMin  \\\n",
       "0                             72.0                          51.0     -128.0   \n",
       "\n",
       "   qHyst  cellRange  noOfPucchCqiUsers  noOfPucchSrUsers  primaryPlmnReserved  \\\n",
       "0    2.0       15.0              720.0             720.0                False   \n",
       "\n",
       "   qQualMin  noOfRxAntennas  noOfTxAntennas  dlPowerRatio  \\\n",
       "0       0.0             2.0             2.0         100.0   \n",
       "\n",
       "   maximumTransmissionPower  dlTrafficDelay  ulTrafficDelay  dlAttenuation  \\\n",
       "0                     490.0         76000.0         76000.0         -160.0   \n",
       "\n",
       "   ulAttenuation  configuredMaxTxPower  b1Threshold  crsGain  \\\n",
       "0            0.0                2000.0         38.0      0.0   \n",
       "\n",
       "         RE_Boosting productionDate  productName productNumber  \\\n",
       "0  Pb_0(RE_Boost_ON)     20170804.0  Radio2203B3   KRC161488/1   \n",
       "\n",
       "  productRevision serialNumber nmsDU랙번호 nmsDU번호 nmsCH카드  \\\n",
       "0             R1E   D826163212      2.0     2.0     1.0   \n",
       "\n",
       "                     nmsCH포트    nms집중국 nms도로명주소 nms시도 nms시군구  nms읍면동   nms번지  \\\n",
       "0  LGE0000021:상남R1(분기)-02-02  상남R1(분기)  강원도인제군-   강원도    인제군  상남면상남리  1308-0   \n",
       "\n",
       "              nms건물 nms세부주소 nmsRU서비스지역    nms운용팀 nms담당자     SW집중국  \\\n",
       "0  과학화전투훈련단대항군연대연대동   상남기지국        인빌딩  영동엔지니어링팀    김용해  상남R1(분기)   \n",
       "\n",
       "            S1_ip              SW_NAME  SW_port Primary_SW_IP Secondary_SW_IP  \\\n",
       "0  10.74.82.98/29  Sangnam.R1-LAX001-2     13.0    10.74.81.1      10.74.81.2   \n",
       "\n",
       "    Primary_회선번호 Secondary_회선번호  RPS  \n",
       "0  12313012-1243  12313012-1244  OFF  "
      ]
     },
     "execution_count": 95,
     "metadata": {},
     "output_type": "execute_result"
    }
   ],
   "source": [
    "elte_site_raw.head(1)"
   ]
  },
  {
   "cell_type": "code",
   "execution_count": 96,
   "metadata": {},
   "outputs": [],
   "source": [
    "elte_list[ 'SECTOR(CELL)' ] = elte_list[ 'SECTOR(CELL)' ].astype( str )"
   ]
  },
  {
   "cell_type": "code",
   "execution_count": 97,
   "metadata": {},
   "outputs": [],
   "source": [
    "elte_list[ 'SECTOR(CELL)' ] = elte_list[ 'SECTOR(CELL)' ].str.replace( r'.0$', '', regex = True )\n",
    "elte_check = pd.merge( elte_list, elte_site, left_on = '기지국ID', right_on = 'nms장비ID', how = 'inner' )"
   ]
  },
  {
   "cell_type": "code",
   "execution_count": 98,
   "metadata": {},
   "outputs": [],
   "source": [
    "def elte_check_function( nr ) :\n",
    "    name_wrong = nr[ ( nr[ '기지국명' ] != nr[ 'nms장비명' ] ) ]\n",
    "    name_wrong[ '행사리스트' ] = name_wrong[ '기지국명' ]\n",
    "    name_wrong[ 'SITE_INFO' ] = name_wrong[ 'nms장비명' ]\n",
    "    name_wrong[ '오류발견' ] = '기지국명'\n",
    "    name_wrong_idx = list( name_wrong.index )\n",
    "    nr.loc[ name_wrong_idx, '기지국명' ] = nr.loc[ name_wrong_idx, 'nms장비명' ]\n",
    "    \n",
    "\n",
    "\n",
    "    lsm_wrong = nr[ ( nr[ '시스템 명' ].isin( [ 'HH_ENM' ] ) ) ]\n",
    "    lsm_wrong[ '행사리스트' ] = lsm_wrong[ '시스템 명' ]\n",
    "    lsm_wrong[ 'SITE_INFO' ] = 'HH_ENM'\n",
    "    lsm_wrong[ '오류발견' ] = '시스템명'\n",
    "    lsm_wrong_idx = list( lsm_wrong.index )\n",
    "    nr.loc[ lsm_wrong_idx, '시스템 명' ] = 'HH_ENM'\n",
    "\n",
    "    du_wrong = nr[ ( nr[ 'DU ID' ] != nr[ 'ENB' ] ) ]\n",
    "    du_wrong[ '행사리스트' ] = du_wrong[ 'DU ID' ]\n",
    "    du_wrong[ 'SITE_INFO' ] = du_wrong[ 'ENB' ]\n",
    "    du_wrong[ '오류발견' ] = 'DU ID'\n",
    "    du_wrong_idx = list( du_wrong.index )\n",
    "    nr.loc[ du_wrong_idx, 'DU ID' ] = nr.loc[ du_wrong_idx, 'ENB' ]\n",
    "\n",
    "\n",
    "    bw_wrong = nr[ ( nr[ '5G/LTE 주파수' ] != nr[ 'DL주파수' ] ) ]\n",
    "    bw_wrong[ '행사리스트' ] = bw_wrong[ '5G/LTE 주파수' ]\n",
    "    bw_wrong[ 'SITE_INFO' ] = nr[ 'DL주파수' ]\n",
    "    bw_wrong[ '오류발견' ] = '주파수'\n",
    "    bw_wrong_idx = list( bw_wrong.index )\n",
    "    nr.loc[ bw_wrong_idx, '5G/LTE 주파수' ] = nr[ 'DL주파수' ]\n",
    "\n",
    "    cell_wrong = nr[ ( nr[ 'SECTOR(CELL)' ] != nr[ 'Cell' ] ) ]\n",
    "    cell_wrong[ '행사리스트' ] = cell_wrong[ 'SECTOR(CELL)' ]\n",
    "    cell_wrong[ 'SITE_INFO' ] = cell_wrong[ 'Cell' ]\n",
    "    cell_wrong[ '오류발견' ] = 'SECTOR(CELL)'\n",
    "    cell_wrong_idx = list( cell_wrong.index )\n",
    "    nr.loc[ cell_wrong_idx, 'SECTOR(CELL)' ] = nr.loc[ cell_wrong_idx, 'Cell' ]\n",
    "\n",
    "    result = pd.concat( [ name_wrong, lsm_wrong, du_wrong, bw_wrong, cell_wrong ] )\n",
    "    num = list( range( 0, 19 ) )\n",
    "    num.insert( 0, -3 )\n",
    "    num.insert( 0, -2 )\n",
    "    num.insert( 0, -1 )\n",
    "    col_list = list( num )\n",
    "    result = result.iloc[ :, col_list ] \n",
    "    nr = nr.iloc[ :, :-5 ] \n",
    "\n",
    "    return result, nr"
   ]
  },
  {
   "cell_type": "code",
   "execution_count": 99,
   "metadata": {},
   "outputs": [],
   "source": [
    "elte_wrong, elte_result = elte_check_function( elte_check )"
   ]
  },
  {
   "cell_type": "code",
   "execution_count": 100,
   "metadata": {},
   "outputs": [],
   "source": [
    "wrong_result = pd.concat( [ slte_wrong, nr_wrong, elte_wrong ] )"
   ]
  },
  {
   "cell_type": "code",
   "execution_count": 101,
   "metadata": {},
   "outputs": [],
   "source": [
    "# right_result =  pd.concat( [ slte_result, nr_result, elte_result ] )"
   ]
  },
  {
   "cell_type": "code",
   "execution_count": 102,
   "metadata": {},
   "outputs": [],
   "source": [
    "# right_result.drop_duplicates( inplace = True )"
   ]
  },
  {
   "cell_type": "code",
   "execution_count": 103,
   "metadata": {},
   "outputs": [],
   "source": [
    "wrong_result.to_excel( 'C:/Users/10152638/Desktop/tmp/행사리스트_검증.xlsx', encoding = 'euc-kr', index = False )"
   ]
  },
  {
   "cell_type": "code",
   "execution_count": 104,
   "metadata": {},
   "outputs": [],
   "source": [
    "# right_result.to_excel( 'C:/Users/10152638/Desktop/tmp/행사리스트_수정.xlsx', encoding = 'euc-kr', index = False )"
   ]
  },
  {
   "cell_type": "code",
   "execution_count": 2,
   "metadata": {},
   "outputs": [],
   "source": [
    "lists = [('5G',), ('SS_LTE',), ('TEMP',), ('information_schema',), ('mysql',), ('oneview',), ('performance_schema',), ('sys',), ('test',)]"
   ]
  },
  {
   "cell_type": "code",
   "execution_count": 3,
   "metadata": {},
   "outputs": [],
   "source": [
    "db_list = []\n",
    "for i in range( len( lists ) ) :\n",
    "    db_list.append( lists[ i ][ 0 ] )"
   ]
  },
  {
   "cell_type": "code",
   "execution_count": 4,
   "metadata": {},
   "outputs": [
    {
     "data": {
      "text/plain": [
       "['5G',\n",
       " 'SS_LTE',\n",
       " 'TEMP',\n",
       " 'information_schema',\n",
       " 'mysql',\n",
       " 'oneview',\n",
       " 'performance_schema',\n",
       " 'sys',\n",
       " 'test']"
      ]
     },
     "execution_count": 4,
     "metadata": {},
     "output_type": "execute_result"
    }
   ],
   "source": [
    "db_list"
   ]
  },
  {
   "cell_type": "code",
   "execution_count": null,
   "metadata": {},
   "outputs": [],
   "source": [
    "0"
   ]
  }
 ],
 "metadata": {
  "interpreter": {
   "hash": "78051eca7ba72043908230ca58aa1aeac11448852d44139a478093be284452ee"
  },
  "kernelspec": {
   "display_name": "Python 3.9.6 64-bit",
   "language": "python",
   "name": "python3"
  },
  "language_info": {
   "codemirror_mode": {
    "name": "ipython",
    "version": 3
   },
   "file_extension": ".py",
   "mimetype": "text/x-python",
   "name": "python",
   "nbconvert_exporter": "python",
   "pygments_lexer": "ipython3",
   "version": "3.9.6"
  },
  "orig_nbformat": 4
 },
 "nbformat": 4,
 "nbformat_minor": 2
}
